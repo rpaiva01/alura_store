{
  "nbformat": 4,
  "nbformat_minor": 0,
  "metadata": {
    "colab": {
      "provenance": [],
      "toc_visible": true,
      "include_colab_link": true
    },
    "kernelspec": {
      "name": "python3",
      "display_name": "Python 3"
    },
    "language_info": {
      "name": "python"
    }
  },
  "cells": [
    {
      "cell_type": "markdown",
      "metadata": {
        "id": "view-in-github",
        "colab_type": "text"
      },
      "source": [
        "<a href=\"https://colab.research.google.com/github/rpaiva01/alura_store/blob/main/AluraStoreLatam.ipynb\" target=\"_parent\"><img src=\"https://colab.research.google.com/assets/colab-badge.svg\" alt=\"Open In Colab\"/></a>"
      ]
    },
    {
      "cell_type": "markdown",
      "source": [
        "### Importación de datos\n",
        "\n"
      ],
      "metadata": {
        "id": "RhEdWd9YUR6H"
      }
    },
    {
      "cell_type": "code",
      "execution_count": 25,
      "metadata": {
        "colab": {
          "base_uri": "https://localhost:8080/",
          "height": 293
        },
        "id": "T3EvaeQ_INIL",
        "outputId": "e49589ab-79fc-440c-ea6f-18edeb9f9743"
      },
      "outputs": [
        {
          "output_type": "execute_result",
          "data": {
            "text/plain": [
              "            Producto Categoría del Producto    Precio  Costo de envío  \\\n",
              "0  Asistente virtual           Electrónicos  164300.0          6900.0   \n",
              "1    Mesa de comedor                Muebles  192300.0          8400.0   \n",
              "2      Juego de mesa               Juguetes  209600.0         15900.0   \n",
              "3         Microondas      Electrodomésticos  757500.0         41000.0   \n",
              "4   Silla de oficina                Muebles  335200.0         20200.0   \n",
              "\n",
              "  Fecha de Compra         Vendedor Lugar de Compra  Calificación  \\\n",
              "0      16/01/2021      Pedro Gomez          Bogotá             4   \n",
              "1      18/05/2022  Beatriz Morales        Medellín             1   \n",
              "2      15/03/2021   Juan Fernandez       Cartagena             1   \n",
              "3      03/05/2022   Juan Fernandez            Cali             4   \n",
              "4      07/11/2020    Maria Alfonso        Medellín             5   \n",
              "\n",
              "       Método de pago  Cantidad de cuotas       lat       lon  \n",
              "0  Tarjeta de crédito                   8   4.60971 -74.08175  \n",
              "1  Tarjeta de crédito                   4   6.25184 -75.56359  \n",
              "2  Tarjeta de crédito                   1  10.39972 -75.51444  \n",
              "3               Nequi                   1   3.43722 -76.52250  \n",
              "4               Nequi                   1   6.25184 -75.56359  "
            ],
            "text/html": [
              "\n",
              "  <div id=\"df-7dd0b615-8fe1-4e0b-8b67-70c33adf593c\" class=\"colab-df-container\">\n",
              "    <div>\n",
              "<style scoped>\n",
              "    .dataframe tbody tr th:only-of-type {\n",
              "        vertical-align: middle;\n",
              "    }\n",
              "\n",
              "    .dataframe tbody tr th {\n",
              "        vertical-align: top;\n",
              "    }\n",
              "\n",
              "    .dataframe thead th {\n",
              "        text-align: right;\n",
              "    }\n",
              "</style>\n",
              "<table border=\"1\" class=\"dataframe\">\n",
              "  <thead>\n",
              "    <tr style=\"text-align: right;\">\n",
              "      <th></th>\n",
              "      <th>Producto</th>\n",
              "      <th>Categoría del Producto</th>\n",
              "      <th>Precio</th>\n",
              "      <th>Costo de envío</th>\n",
              "      <th>Fecha de Compra</th>\n",
              "      <th>Vendedor</th>\n",
              "      <th>Lugar de Compra</th>\n",
              "      <th>Calificación</th>\n",
              "      <th>Método de pago</th>\n",
              "      <th>Cantidad de cuotas</th>\n",
              "      <th>lat</th>\n",
              "      <th>lon</th>\n",
              "    </tr>\n",
              "  </thead>\n",
              "  <tbody>\n",
              "    <tr>\n",
              "      <th>0</th>\n",
              "      <td>Asistente virtual</td>\n",
              "      <td>Electrónicos</td>\n",
              "      <td>164300.0</td>\n",
              "      <td>6900.0</td>\n",
              "      <td>16/01/2021</td>\n",
              "      <td>Pedro Gomez</td>\n",
              "      <td>Bogotá</td>\n",
              "      <td>4</td>\n",
              "      <td>Tarjeta de crédito</td>\n",
              "      <td>8</td>\n",
              "      <td>4.60971</td>\n",
              "      <td>-74.08175</td>\n",
              "    </tr>\n",
              "    <tr>\n",
              "      <th>1</th>\n",
              "      <td>Mesa de comedor</td>\n",
              "      <td>Muebles</td>\n",
              "      <td>192300.0</td>\n",
              "      <td>8400.0</td>\n",
              "      <td>18/05/2022</td>\n",
              "      <td>Beatriz Morales</td>\n",
              "      <td>Medellín</td>\n",
              "      <td>1</td>\n",
              "      <td>Tarjeta de crédito</td>\n",
              "      <td>4</td>\n",
              "      <td>6.25184</td>\n",
              "      <td>-75.56359</td>\n",
              "    </tr>\n",
              "    <tr>\n",
              "      <th>2</th>\n",
              "      <td>Juego de mesa</td>\n",
              "      <td>Juguetes</td>\n",
              "      <td>209600.0</td>\n",
              "      <td>15900.0</td>\n",
              "      <td>15/03/2021</td>\n",
              "      <td>Juan Fernandez</td>\n",
              "      <td>Cartagena</td>\n",
              "      <td>1</td>\n",
              "      <td>Tarjeta de crédito</td>\n",
              "      <td>1</td>\n",
              "      <td>10.39972</td>\n",
              "      <td>-75.51444</td>\n",
              "    </tr>\n",
              "    <tr>\n",
              "      <th>3</th>\n",
              "      <td>Microondas</td>\n",
              "      <td>Electrodomésticos</td>\n",
              "      <td>757500.0</td>\n",
              "      <td>41000.0</td>\n",
              "      <td>03/05/2022</td>\n",
              "      <td>Juan Fernandez</td>\n",
              "      <td>Cali</td>\n",
              "      <td>4</td>\n",
              "      <td>Nequi</td>\n",
              "      <td>1</td>\n",
              "      <td>3.43722</td>\n",
              "      <td>-76.52250</td>\n",
              "    </tr>\n",
              "    <tr>\n",
              "      <th>4</th>\n",
              "      <td>Silla de oficina</td>\n",
              "      <td>Muebles</td>\n",
              "      <td>335200.0</td>\n",
              "      <td>20200.0</td>\n",
              "      <td>07/11/2020</td>\n",
              "      <td>Maria Alfonso</td>\n",
              "      <td>Medellín</td>\n",
              "      <td>5</td>\n",
              "      <td>Nequi</td>\n",
              "      <td>1</td>\n",
              "      <td>6.25184</td>\n",
              "      <td>-75.56359</td>\n",
              "    </tr>\n",
              "  </tbody>\n",
              "</table>\n",
              "</div>\n",
              "    <div class=\"colab-df-buttons\">\n",
              "\n",
              "  <div class=\"colab-df-container\">\n",
              "    <button class=\"colab-df-convert\" onclick=\"convertToInteractive('df-7dd0b615-8fe1-4e0b-8b67-70c33adf593c')\"\n",
              "            title=\"Convert this dataframe to an interactive table.\"\n",
              "            style=\"display:none;\">\n",
              "\n",
              "  <svg xmlns=\"http://www.w3.org/2000/svg\" height=\"24px\" viewBox=\"0 -960 960 960\">\n",
              "    <path d=\"M120-120v-720h720v720H120Zm60-500h600v-160H180v160Zm220 220h160v-160H400v160Zm0 220h160v-160H400v160ZM180-400h160v-160H180v160Zm440 0h160v-160H620v160ZM180-180h160v-160H180v160Zm440 0h160v-160H620v160Z\"/>\n",
              "  </svg>\n",
              "    </button>\n",
              "\n",
              "  <style>\n",
              "    .colab-df-container {\n",
              "      display:flex;\n",
              "      gap: 12px;\n",
              "    }\n",
              "\n",
              "    .colab-df-convert {\n",
              "      background-color: #E8F0FE;\n",
              "      border: none;\n",
              "      border-radius: 50%;\n",
              "      cursor: pointer;\n",
              "      display: none;\n",
              "      fill: #1967D2;\n",
              "      height: 32px;\n",
              "      padding: 0 0 0 0;\n",
              "      width: 32px;\n",
              "    }\n",
              "\n",
              "    .colab-df-convert:hover {\n",
              "      background-color: #E2EBFA;\n",
              "      box-shadow: 0px 1px 2px rgba(60, 64, 67, 0.3), 0px 1px 3px 1px rgba(60, 64, 67, 0.15);\n",
              "      fill: #174EA6;\n",
              "    }\n",
              "\n",
              "    .colab-df-buttons div {\n",
              "      margin-bottom: 4px;\n",
              "    }\n",
              "\n",
              "    [theme=dark] .colab-df-convert {\n",
              "      background-color: #3B4455;\n",
              "      fill: #D2E3FC;\n",
              "    }\n",
              "\n",
              "    [theme=dark] .colab-df-convert:hover {\n",
              "      background-color: #434B5C;\n",
              "      box-shadow: 0px 1px 3px 1px rgba(0, 0, 0, 0.15);\n",
              "      filter: drop-shadow(0px 1px 2px rgba(0, 0, 0, 0.3));\n",
              "      fill: #FFFFFF;\n",
              "    }\n",
              "  </style>\n",
              "\n",
              "    <script>\n",
              "      const buttonEl =\n",
              "        document.querySelector('#df-7dd0b615-8fe1-4e0b-8b67-70c33adf593c button.colab-df-convert');\n",
              "      buttonEl.style.display =\n",
              "        google.colab.kernel.accessAllowed ? 'block' : 'none';\n",
              "\n",
              "      async function convertToInteractive(key) {\n",
              "        const element = document.querySelector('#df-7dd0b615-8fe1-4e0b-8b67-70c33adf593c');\n",
              "        const dataTable =\n",
              "          await google.colab.kernel.invokeFunction('convertToInteractive',\n",
              "                                                    [key], {});\n",
              "        if (!dataTable) return;\n",
              "\n",
              "        const docLinkHtml = 'Like what you see? Visit the ' +\n",
              "          '<a target=\"_blank\" href=https://colab.research.google.com/notebooks/data_table.ipynb>data table notebook</a>'\n",
              "          + ' to learn more about interactive tables.';\n",
              "        element.innerHTML = '';\n",
              "        dataTable['output_type'] = 'display_data';\n",
              "        await google.colab.output.renderOutput(dataTable, element);\n",
              "        const docLink = document.createElement('div');\n",
              "        docLink.innerHTML = docLinkHtml;\n",
              "        element.appendChild(docLink);\n",
              "      }\n",
              "    </script>\n",
              "  </div>\n",
              "\n",
              "\n",
              "    <div id=\"df-e554e16a-528e-4674-a6e3-55acd8038e26\">\n",
              "      <button class=\"colab-df-quickchart\" onclick=\"quickchart('df-e554e16a-528e-4674-a6e3-55acd8038e26')\"\n",
              "                title=\"Suggest charts\"\n",
              "                style=\"display:none;\">\n",
              "\n",
              "<svg xmlns=\"http://www.w3.org/2000/svg\" height=\"24px\"viewBox=\"0 0 24 24\"\n",
              "     width=\"24px\">\n",
              "    <g>\n",
              "        <path d=\"M19 3H5c-1.1 0-2 .9-2 2v14c0 1.1.9 2 2 2h14c1.1 0 2-.9 2-2V5c0-1.1-.9-2-2-2zM9 17H7v-7h2v7zm4 0h-2V7h2v10zm4 0h-2v-4h2v4z\"/>\n",
              "    </g>\n",
              "</svg>\n",
              "      </button>\n",
              "\n",
              "<style>\n",
              "  .colab-df-quickchart {\n",
              "      --bg-color: #E8F0FE;\n",
              "      --fill-color: #1967D2;\n",
              "      --hover-bg-color: #E2EBFA;\n",
              "      --hover-fill-color: #174EA6;\n",
              "      --disabled-fill-color: #AAA;\n",
              "      --disabled-bg-color: #DDD;\n",
              "  }\n",
              "\n",
              "  [theme=dark] .colab-df-quickchart {\n",
              "      --bg-color: #3B4455;\n",
              "      --fill-color: #D2E3FC;\n",
              "      --hover-bg-color: #434B5C;\n",
              "      --hover-fill-color: #FFFFFF;\n",
              "      --disabled-bg-color: #3B4455;\n",
              "      --disabled-fill-color: #666;\n",
              "  }\n",
              "\n",
              "  .colab-df-quickchart {\n",
              "    background-color: var(--bg-color);\n",
              "    border: none;\n",
              "    border-radius: 50%;\n",
              "    cursor: pointer;\n",
              "    display: none;\n",
              "    fill: var(--fill-color);\n",
              "    height: 32px;\n",
              "    padding: 0;\n",
              "    width: 32px;\n",
              "  }\n",
              "\n",
              "  .colab-df-quickchart:hover {\n",
              "    background-color: var(--hover-bg-color);\n",
              "    box-shadow: 0 1px 2px rgba(60, 64, 67, 0.3), 0 1px 3px 1px rgba(60, 64, 67, 0.15);\n",
              "    fill: var(--button-hover-fill-color);\n",
              "  }\n",
              "\n",
              "  .colab-df-quickchart-complete:disabled,\n",
              "  .colab-df-quickchart-complete:disabled:hover {\n",
              "    background-color: var(--disabled-bg-color);\n",
              "    fill: var(--disabled-fill-color);\n",
              "    box-shadow: none;\n",
              "  }\n",
              "\n",
              "  .colab-df-spinner {\n",
              "    border: 2px solid var(--fill-color);\n",
              "    border-color: transparent;\n",
              "    border-bottom-color: var(--fill-color);\n",
              "    animation:\n",
              "      spin 1s steps(1) infinite;\n",
              "  }\n",
              "\n",
              "  @keyframes spin {\n",
              "    0% {\n",
              "      border-color: transparent;\n",
              "      border-bottom-color: var(--fill-color);\n",
              "      border-left-color: var(--fill-color);\n",
              "    }\n",
              "    20% {\n",
              "      border-color: transparent;\n",
              "      border-left-color: var(--fill-color);\n",
              "      border-top-color: var(--fill-color);\n",
              "    }\n",
              "    30% {\n",
              "      border-color: transparent;\n",
              "      border-left-color: var(--fill-color);\n",
              "      border-top-color: var(--fill-color);\n",
              "      border-right-color: var(--fill-color);\n",
              "    }\n",
              "    40% {\n",
              "      border-color: transparent;\n",
              "      border-right-color: var(--fill-color);\n",
              "      border-top-color: var(--fill-color);\n",
              "    }\n",
              "    60% {\n",
              "      border-color: transparent;\n",
              "      border-right-color: var(--fill-color);\n",
              "    }\n",
              "    80% {\n",
              "      border-color: transparent;\n",
              "      border-right-color: var(--fill-color);\n",
              "      border-bottom-color: var(--fill-color);\n",
              "    }\n",
              "    90% {\n",
              "      border-color: transparent;\n",
              "      border-bottom-color: var(--fill-color);\n",
              "    }\n",
              "  }\n",
              "</style>\n",
              "\n",
              "      <script>\n",
              "        async function quickchart(key) {\n",
              "          const quickchartButtonEl =\n",
              "            document.querySelector('#' + key + ' button');\n",
              "          quickchartButtonEl.disabled = true;  // To prevent multiple clicks.\n",
              "          quickchartButtonEl.classList.add('colab-df-spinner');\n",
              "          try {\n",
              "            const charts = await google.colab.kernel.invokeFunction(\n",
              "                'suggestCharts', [key], {});\n",
              "          } catch (error) {\n",
              "            console.error('Error during call to suggestCharts:', error);\n",
              "          }\n",
              "          quickchartButtonEl.classList.remove('colab-df-spinner');\n",
              "          quickchartButtonEl.classList.add('colab-df-quickchart-complete');\n",
              "        }\n",
              "        (() => {\n",
              "          let quickchartButtonEl =\n",
              "            document.querySelector('#df-e554e16a-528e-4674-a6e3-55acd8038e26 button');\n",
              "          quickchartButtonEl.style.display =\n",
              "            google.colab.kernel.accessAllowed ? 'block' : 'none';\n",
              "        })();\n",
              "      </script>\n",
              "    </div>\n",
              "\n",
              "    </div>\n",
              "  </div>\n"
            ],
            "application/vnd.google.colaboratory.intrinsic+json": {
              "type": "dataframe",
              "variable_name": "tienda",
              "summary": "{\n  \"name\": \"tienda\",\n  \"rows\": 2359,\n  \"fields\": [\n    {\n      \"column\": \"Producto\",\n      \"properties\": {\n        \"dtype\": \"category\",\n        \"num_unique_values\": 51,\n        \"samples\": [\n          \"Guitarra ac\\u00fastica\",\n          \"Bal\\u00f3n de baloncesto\",\n          \"Smartwatch\"\n        ],\n        \"semantic_type\": \"\",\n        \"description\": \"\"\n      }\n    },\n    {\n      \"column\": \"Categor\\u00eda del Producto\",\n      \"properties\": {\n        \"dtype\": \"category\",\n        \"num_unique_values\": 8,\n        \"samples\": [\n          \"Muebles\",\n          \"Deportes y diversi\\u00f3n\",\n          \"Electr\\u00f3nicos\"\n        ],\n        \"semantic_type\": \"\",\n        \"description\": \"\"\n      }\n    },\n    {\n      \"column\": \"Precio\",\n      \"properties\": {\n        \"dtype\": \"number\",\n        \"std\": 614686.7653873172,\n        \"min\": 7600.0,\n        \"max\": 2977000.0,\n        \"num_unique_values\": 1937,\n        \"samples\": [\n          2499400.0,\n          14800.0,\n          80500.0\n        ],\n        \"semantic_type\": \"\",\n        \"description\": \"\"\n      }\n    },\n    {\n      \"column\": \"Costo de env\\u00edo\",\n      \"properties\": {\n        \"dtype\": \"number\",\n        \"std\": 32860.0017825605,\n        \"min\": 0.0,\n        \"max\": 160800.0,\n        \"num_unique_values\": 753,\n        \"samples\": [\n          117800.0,\n          54700.0,\n          45600.0\n        ],\n        \"semantic_type\": \"\",\n        \"description\": \"\"\n      }\n    },\n    {\n      \"column\": \"Fecha de Compra\",\n      \"properties\": {\n        \"dtype\": \"object\",\n        \"num_unique_values\": 1018,\n        \"samples\": [\n          \"15/09/2022\",\n          \"03/06/2020\",\n          \"06/11/2021\"\n        ],\n        \"semantic_type\": \"\",\n        \"description\": \"\"\n      }\n    },\n    {\n      \"column\": \"Vendedor\",\n      \"properties\": {\n        \"dtype\": \"category\",\n        \"num_unique_values\": 14,\n        \"samples\": [\n          \"Juliana Costa\",\n          \"Mariana Herrera\",\n          \"Pedro Gomez\"\n        ],\n        \"semantic_type\": \"\",\n        \"description\": \"\"\n      }\n    },\n    {\n      \"column\": \"Lugar de Compra\",\n      \"properties\": {\n        \"dtype\": \"category\",\n        \"num_unique_values\": 19,\n        \"samples\": [\n          \"Bogot\\u00e1\",\n          \"Pereira\",\n          \"Neiva\"\n        ],\n        \"semantic_type\": \"\",\n        \"description\": \"\"\n      }\n    },\n    {\n      \"column\": \"Calificaci\\u00f3n\",\n      \"properties\": {\n        \"dtype\": \"number\",\n        \"std\": 1,\n        \"min\": 1,\n        \"max\": 5,\n        \"num_unique_values\": 5,\n        \"samples\": [\n          1,\n          2,\n          5\n        ],\n        \"semantic_type\": \"\",\n        \"description\": \"\"\n      }\n    },\n    {\n      \"column\": \"M\\u00e9todo de pago\",\n      \"properties\": {\n        \"dtype\": \"category\",\n        \"num_unique_values\": 4,\n        \"samples\": [\n          \"Nequi\",\n          \"Tarjeta de d\\u00e9bito\",\n          \"Tarjeta de cr\\u00e9dito\"\n        ],\n        \"semantic_type\": \"\",\n        \"description\": \"\"\n      }\n    },\n    {\n      \"column\": \"Cantidad de cuotas\",\n      \"properties\": {\n        \"dtype\": \"number\",\n        \"std\": 2,\n        \"min\": 1,\n        \"max\": 24,\n        \"num_unique_values\": 15,\n        \"samples\": [\n          7,\n          14,\n          8\n        ],\n        \"semantic_type\": \"\",\n        \"description\": \"\"\n      }\n    },\n    {\n      \"column\": \"lat\",\n      \"properties\": {\n        \"dtype\": \"number\",\n        \"std\": 2.2874452492678627,\n        \"min\": -4.21528,\n        \"max\": 11.54444,\n        \"num_unique_values\": 19,\n        \"samples\": [\n          4.60971,\n          4.81333,\n          2.9273\n        ],\n        \"semantic_type\": \"\",\n        \"description\": \"\"\n      }\n    },\n    {\n      \"column\": \"lon\",\n      \"properties\": {\n        \"dtype\": \"number\",\n        \"std\": 1.2178272727088486,\n        \"min\": -77.28111,\n        \"max\": -67.9239,\n        \"num_unique_values\": 19,\n        \"samples\": [\n          -74.08175,\n          -75.69611,\n          -75.28189\n        ],\n        \"semantic_type\": \"\",\n        \"description\": \"\"\n      }\n    }\n  ]\n}"
            }
          },
          "metadata": {},
          "execution_count": 25
        }
      ],
      "source": [
        "import pandas as pd\n",
        "import matplotlib.pyplot as plt\n",
        "import seaborn as sns\n",
        "\n",
        "# Cargar los datos de las 4 tiendas\n",
        "url = \"https://raw.githubusercontent.com/alura-es-cursos/challenge1-data-science-latam/refs/heads/main/base-de-datos-challenge1-latam/tienda_1%20.csv\"\n",
        "url2 = \"https://raw.githubusercontent.com/alura-es-cursos/challenge1-data-science-latam/refs/heads/main/base-de-datos-challenge1-latam/tienda_2.csv\"\n",
        "url3 = \"https://raw.githubusercontent.com/alura-es-cursos/challenge1-data-science-latam/refs/heads/main/base-de-datos-challenge1-latam/tienda_3.csv\"\n",
        "url4 = \"https://raw.githubusercontent.com/alura-es-cursos/challenge1-data-science-latam/refs/heads/main/base-de-datos-challenge1-latam/tienda_4.csv\"\n",
        "\n",
        "tienda1 = pd.read_csv(url)\n",
        "tienda2 = pd.read_csv(url2)\n",
        "tienda3 = pd.read_csv(url3)\n",
        "tienda4 = pd.read_csv(url4)\n",
        "\n",
        "tienda.head()"
      ]
    },
    {
      "cell_type": "markdown",
      "source": [
        "###**Se carga los datos de las 4 tiendas y se le asigna su respectivo nombre.**"
      ],
      "metadata": {
        "id": "4d5J0LeS9ix7"
      }
    },
    {
      "cell_type": "markdown",
      "source": [],
      "metadata": {
        "id": "kJc9Lt5-7yfS"
      }
    },
    {
      "cell_type": "code",
      "source": [
        "# Agregar una columna 'Tienda' a cada dataframe antes de concatenar\n",
        "tienda1['Tienda'] = 'Tienda 1'\n",
        "tienda2['Tienda'] = 'Tienda 2'\n",
        "tienda3['Tienda'] = 'Tienda 3'\n",
        "tienda4['Tienda'] = 'Tienda 4'\n"
      ],
      "metadata": {
        "id": "0frCiKMU90FL"
      },
      "execution_count": null,
      "outputs": []
    },
    {
      "cell_type": "code",
      "source": [
        "#Concatenar los dataframes en uno solo\n",
        "df_tienda = pd.concat([tienda1, tienda2, tienda3, tienda4], ignore_index=True)"
      ],
      "metadata": {
        "id": "BdMTgAi-KYUD"
      },
      "execution_count": 33,
      "outputs": []
    },
    {
      "cell_type": "markdown",
      "source": [
        "#1. Análisis de facturación\n",
        "\n"
      ],
      "metadata": {
        "id": "X62IW3KFUIYm"
      }
    },
    {
      "cell_type": "markdown",
      "source": [
        "###**Se obtiene los valores de ingresos totales por Tienda**"
      ],
      "metadata": {
        "id": "ca646A1K91Ec"
      }
    },
    {
      "cell_type": "code",
      "source": [
        "# Ingresos por Tienda\n",
        "ingresos_por_tienda = df_tienda.groupby('Tienda')['Precio'].sum()\n",
        "\n",
        "# Calcular el total de ingresos de todas las tiendas\n",
        "total_ingresos = ingresos_por_tienda.sum()\n",
        "\n",
        "# Calcular el porcentaje de participación de cada tienda\n",
        "porcentaje_por_tienda = (ingresos_por_tienda / total_ingresos) * 100\n",
        "\n",
        "# Formatear los valores\n",
        "ingresos_por_tienda = ingresos_por_tienda.apply(lambda x: \"{:,.2f}\".format(x))\n",
        "porcentaje_por_tienda = porcentaje_por_tienda.apply(lambda x: \"{:.2f}%\".format(x))\n",
        "\n",
        "# Crear tabla combinada con ingresos y porcentaje\n",
        "tabla_final = pd.DataFrame({\n",
        "    \"Monto\": ingresos_por_tienda,\n",
        "    \"%\": porcentaje_por_tienda\n",
        "})\n",
        "\n",
        "print(\"Ingresos por tienda y porcentaje de contribución:\\n\", tabla_final)\n",
        "print(\"\\nTotal de ingresos de todas las tiendas:\", \"{:,.2f}\".format(total_ingresos))"
      ],
      "metadata": {
        "colab": {
          "base_uri": "https://localhost:8080/"
        },
        "id": "szezLEwx217Z",
        "outputId": "323a3c43-9ab7-4474-d2b9-8c8a244d33f9"
      },
      "execution_count": 65,
      "outputs": [
        {
          "output_type": "stream",
          "name": "stdout",
          "text": [
            "Ingresos por tienda y porcentaje de contribución:\n",
            "                      Monto       %\n",
            "Tienda                            \n",
            "Tienda 1  1,150,880,400.00  26.13%\n",
            "Tienda 2  1,116,343,500.00  25.35%\n",
            "Tienda 3  1,098,019,600.00  24.93%\n",
            "Tienda 4  1,038,375,700.00  23.58%\n",
            "\n",
            "Total de ingresos de todas las tiendas: 4,403,619,200.00\n"
          ]
        }
      ]
    },
    {
      "cell_type": "code",
      "source": [],
      "metadata": {
        "id": "a1mXezRmPaxB"
      },
      "execution_count": null,
      "outputs": []
    },
    {
      "cell_type": "markdown",
      "source": [
        "# 2. Ventas por categoría"
      ],
      "metadata": {
        "id": "2V_vcAPzWZmR"
      }
    },
    {
      "cell_type": "markdown",
      "source": [],
      "metadata": {
        "id": "RqAvJTDwRQAL"
      }
    },
    {
      "cell_type": "markdown",
      "source": [
        "**Ventas por Categoría en Tienda 1**"
      ],
      "metadata": {
        "id": "ONP_QnnINa7X"
      }
    },
    {
      "cell_type": "code",
      "source": [
        "# Agrupar por categoría y contar el número de ventas\n",
        "ventas_por_categoria = tienda.groupby('Categoría del Producto').size()\n",
        "\n",
        "# Ordenar de mayor a menor\n",
        "ventas_por_categoria = ventas_por_categoria.sort_values(ascending=False)\n",
        "\n",
        "print(\"Cantidad de Productos Vendidos por Categoría en Tienda 1:\\n\", ventas_por_categoria)"
      ],
      "metadata": {
        "id": "A34YupIuYhfF",
        "colab": {
          "base_uri": "https://localhost:8080/"
        },
        "outputId": "4b1231ee-d071-4a2e-9449-4c73ca046484"
      },
      "execution_count": 40,
      "outputs": [
        {
          "output_type": "stream",
          "name": "stdout",
          "text": [
            "Cantidad de Productos Vendidos por Categoría en Tienda 1:\n",
            " Categoría del Producto\n",
            "Muebles                    465\n",
            "Electrónicos               448\n",
            "Juguetes                   324\n",
            "Electrodomésticos          312\n",
            "Deportes y diversión       284\n",
            "Instrumentos musicales     182\n",
            "Libros                     173\n",
            "Artículos para el hogar    171\n",
            "dtype: int64\n"
          ]
        }
      ]
    },
    {
      "cell_type": "markdown",
      "source": [
        "**Ventas por Categoría en Tienda 2**"
      ],
      "metadata": {
        "id": "R53XugsCNh8e"
      }
    },
    {
      "cell_type": "code",
      "source": [
        "# Agrupar por categoría y contar el número de ventas\n",
        "ventas_por_categoria = tienda2.groupby('Categoría del Producto').size()\n",
        "\n",
        "# Ordenar de mayor a menor\n",
        "ventas_por_categoria = ventas_por_categoria.sort_values(ascending=False)\n",
        "\n",
        "print(\"Cantidad de Productos Vendidos por Categoría en Tienda 2:\\n\", ventas_por_categoria)"
      ],
      "metadata": {
        "id": "yZR6cOjXYSk1",
        "colab": {
          "base_uri": "https://localhost:8080/"
        },
        "outputId": "b0791953-bcfb-4da7-d6fb-e01b5db08188"
      },
      "execution_count": 14,
      "outputs": [
        {
          "output_type": "stream",
          "name": "stdout",
          "text": [
            "Cantidad de Productos Vendidos por Categoría en Tienda 2:\n",
            " Categoría del Producto\n",
            "Muebles                    442\n",
            "Electrónicos               422\n",
            "Juguetes                   313\n",
            "Electrodomésticos          305\n",
            "Deportes y diversión       275\n",
            "Instrumentos musicales     224\n",
            "Libros                     197\n",
            "Artículos para el hogar    181\n",
            "dtype: int64\n"
          ]
        }
      ]
    },
    {
      "cell_type": "markdown",
      "source": [
        "**Ventas por Categoría en Tienda 3**"
      ],
      "metadata": {
        "id": "ufY7zcKMNkIi"
      }
    },
    {
      "cell_type": "code",
      "source": [
        "# Agrupar por categoría y contar el número de ventas\n",
        "ventas_por_categoria = tienda3.groupby('Categoría del Producto').size()\n",
        "\n",
        "# Ordenar de mayor a menor\n",
        "ventas_por_categoria = ventas_por_categoria.sort_values(ascending=False)\n",
        "\n",
        "print(\"Cantidad de Productos Vendidos por Categoría en Tienda 3:\\n\", ventas_por_categoria)"
      ],
      "metadata": {
        "colab": {
          "base_uri": "https://localhost:8080/"
        },
        "id": "-UpKslgwuxj_",
        "outputId": "f6931881-3428-4fef-e6c6-359ac5d87cd5"
      },
      "execution_count": 15,
      "outputs": [
        {
          "output_type": "stream",
          "name": "stdout",
          "text": [
            "Cantidad de Productos Vendidos por Categoría en Tienda 3:\n",
            " Categoría del Producto\n",
            "Muebles                    499\n",
            "Electrónicos               451\n",
            "Juguetes                   315\n",
            "Electrodomésticos          278\n",
            "Deportes y diversión       277\n",
            "Libros                     185\n",
            "Artículos para el hogar    177\n",
            "Instrumentos musicales     177\n",
            "dtype: int64\n"
          ]
        }
      ]
    },
    {
      "cell_type": "markdown",
      "source": [
        "**Ventas por Categoría en Tienda 4**"
      ],
      "metadata": {
        "id": "90xrsgeyNmeG"
      }
    },
    {
      "cell_type": "code",
      "source": [
        "# Agrupar por categoría y contar el número de ventas\n",
        "ventas_por_categoria = tienda4.groupby('Categoría del Producto').size()\n",
        "\n",
        "# Ordenar de mayor a menor\n",
        "ventas_por_categoria = ventas_por_categoria.sort_values(ascending=False)\n",
        "\n",
        "print(\"Cantidad de Productos Vendidos por Categoría en Tienda 4:\\n\", ventas_por_categoria)"
      ],
      "metadata": {
        "colab": {
          "base_uri": "https://localhost:8080/"
        },
        "id": "H5lwouaku2cE",
        "outputId": "c9d91c2e-467a-48da-c31e-984f3a660972"
      },
      "execution_count": 16,
      "outputs": [
        {
          "output_type": "stream",
          "name": "stdout",
          "text": [
            "Cantidad de Productos Vendidos por Categoría en Tienda 4:\n",
            " Categoría del Producto\n",
            "Muebles                    480\n",
            "Electrónicos               451\n",
            "Juguetes                   338\n",
            "Deportes y diversión       277\n",
            "Electrodomésticos          254\n",
            "Artículos para el hogar    201\n",
            "Libros                     187\n",
            "Instrumentos musicales     170\n",
            "dtype: int64\n"
          ]
        }
      ]
    },
    {
      "cell_type": "markdown",
      "source": [
        "# 3. Calificación promedio de la tienda\n"
      ],
      "metadata": {
        "id": "Rq6tU_xSY3jk"
      }
    },
    {
      "cell_type": "code",
      "source": [
        "promedio_calificacion_tiendas = df_tienda.groupby(\"Tienda\")[\"Calificación\"].mean().round(2).to_frame().reset_index()\n",
        "print(\"Resumen de Valoración Media por Tienda:\\n\", promedio_calificacion_tiendas)\n"
      ],
      "metadata": {
        "colab": {
          "base_uri": "https://localhost:8080/"
        },
        "id": "vfEYws12PQVT",
        "outputId": "739e9e78-cf1f-4d85-c413-547dd3d39659"
      },
      "execution_count": 59,
      "outputs": [
        {
          "output_type": "stream",
          "name": "stdout",
          "text": [
            "Resumen de Valoración Media por Tienda:\n",
            "      Tienda  Calificación\n",
            "0  Tienda 1          3.98\n",
            "1  Tienda 2          4.04\n",
            "2  Tienda 3          4.05\n",
            "3  Tienda 4          4.00\n"
          ]
        }
      ]
    },
    {
      "cell_type": "code",
      "source": [],
      "metadata": {
        "id": "wJ34FFl7QI8a"
      },
      "execution_count": null,
      "outputs": []
    },
    {
      "cell_type": "markdown",
      "source": [
        "# 4. Productos más y menos vendidos"
      ],
      "metadata": {
        "id": "DmNp1KPBZCm-"
      }
    },
    {
      "cell_type": "code",
      "source": [
        "# Agrupar por Tienda y contar la cantidad de ventas por producto\n",
        "ventas_por_producto_tienda = df_tienda.groupby([\"Tienda\", \"Producto\"]).size()\n",
        "\n",
        "# Ordenar de mayor a menor dentro de cada tienda\n",
        "ventas_por_producto_tienda = ventas_por_producto_tienda.groupby(level=0, group_keys=False).apply(lambda x: x.sort_values(ascending=False))\n",
        "\n",
        "# Obtener el producto más vendido y menos vendido por tienda\n",
        "productos_mas_vendidos = ventas_por_producto_tienda.groupby(\"Tienda\").head(1)\n",
        "productos_menos_vendidos = ventas_por_producto_tienda.groupby(\"Tienda\").tail(1)\n",
        "\n",
        "print(\"Productos más vendidos por tienda:\\n\", productos_mas_vendidos)\n",
        "print(\"\\nProductos menos vendidos por tienda:\\n\", productos_menos_vendidos)\n",
        "\n"
      ],
      "metadata": {
        "id": "qoyjqijQZHfF",
        "colab": {
          "base_uri": "https://localhost:8080/"
        },
        "outputId": "dc11a58e-f3d3-43ea-f825-958bd28f7dd4"
      },
      "execution_count": 61,
      "outputs": [
        {
          "output_type": "stream",
          "name": "stdout",
          "text": [
            "Productos más vendidos por tienda:\n",
            " Tienda    Producto                 \n",
            "Tienda 1  Armario                      60\n",
            "Tienda 2  Iniciando en programación    65\n",
            "Tienda 3  Kit de bancas                57\n",
            "Tienda 4  Cama box                     62\n",
            "dtype: int64\n",
            "\n",
            "Productos menos vendidos por tienda:\n",
            " Tienda    Producto                 \n",
            "Tienda 1  Auriculares con micrófono    33\n",
            "Tienda 2  Juego de mesa                32\n",
            "Tienda 3  Bloques de construcción      35\n",
            "Tienda 4  Guitarra eléctrica           33\n",
            "dtype: int64\n"
          ]
        }
      ]
    },
    {
      "cell_type": "markdown",
      "source": [
        "# 5. Envío promedio por tienda"
      ],
      "metadata": {
        "id": "Fl0cGi3bZKqU"
      }
    },
    {
      "cell_type": "code",
      "source": [
        "# Calcular el costo de envío promedio por tienda\n",
        "costo_envio_promedio = df_tienda.groupby(\"Tienda\")[\"Costo de envío\"].mean().round(2)\n",
        "\n",
        "print(\"Costo de Envío Promedio por Tienda:\\n\", costo_envio_promedio)"
      ],
      "metadata": {
        "id": "S2JeaCykZNy9",
        "colab": {
          "base_uri": "https://localhost:8080/"
        },
        "outputId": "06a56be1-1ae0-47da-ca41-f245a1b03e8d"
      },
      "execution_count": 63,
      "outputs": [
        {
          "output_type": "stream",
          "name": "stdout",
          "text": [
            "Costo de Envío Promedio por Tienda:\n",
            " Tienda\n",
            "Tienda 1    26018.61\n",
            "Tienda 2    25216.24\n",
            "Tienda 3    24805.68\n",
            "Tienda 4    23459.46\n",
            "Name: Costo de envío, dtype: float64\n"
          ]
        }
      ]
    },
    {
      "cell_type": "code",
      "source": [],
      "metadata": {
        "id": "0tSdCie9ZQlt"
      },
      "execution_count": null,
      "outputs": []
    },
    {
      "cell_type": "markdown",
      "source": [
        "# **Representaciones Gráficas**"
      ],
      "metadata": {
        "id": "FYNoQBt5DTDo"
      }
    },
    {
      "cell_type": "markdown",
      "source": [
        "## **Comparación de ingresos por cada tienda.**\n",
        "\n"
      ],
      "metadata": {
        "id": "xFk0ySonDY2D"
      }
    },
    {
      "cell_type": "code",
      "source": [
        "import pandas as pd\n",
        "import matplotlib.pyplot as plt\n",
        "import seaborn as sns\n",
        "\n",
        "# Cargar y organizar los datos de ingresos por tienda\n",
        "ingresos_por_tienda = df_tienda.groupby('Tienda')['Precio'].sum()\n",
        "total_ingresos = ingresos_por_tienda.sum()\n",
        "porcentaje_por_tienda = (ingresos_por_tienda / total_ingresos) * 100\n",
        "\n",
        "# 🔹 Gráfico de Barras: Ingresos por tienda\n",
        "plt.figure(figsize=(8,5))\n",
        "sns.barplot(x=ingresos_por_tienda.index, y=ingresos_por_tienda.values, palette=\"viridis\")\n",
        "plt.xlabel(\"Tienda\")\n",
        "plt.ylabel(\"Ingresos (en millones)\")\n",
        "plt.title(\"Ingresos por Tienda\")\n",
        "plt.xticks(rotation=45)\n",
        "plt.show()\n"
      ],
      "metadata": {
        "colab": {
          "base_uri": "https://localhost:8080/",
          "height": 612
        },
        "id": "JlpVFdtgDzN8",
        "outputId": "977d7b10-e501-4977-ade5-bac4e4e8c9f7"
      },
      "execution_count": 35,
      "outputs": [
        {
          "output_type": "stream",
          "name": "stderr",
          "text": [
            "<ipython-input-35-3e854fde3f5e>:12: FutureWarning: \n",
            "\n",
            "Passing `palette` without assigning `hue` is deprecated and will be removed in v0.14.0. Assign the `x` variable to `hue` and set `legend=False` for the same effect.\n",
            "\n",
            "  sns.barplot(x=ingresos_por_tienda.index, y=ingresos_por_tienda.values, palette=\"viridis\")\n"
          ]
        },
        {
          "output_type": "display_data",
          "data": {
            "text/plain": [
              "<Figure size 800x500 with 1 Axes>"
            ],
            "image/png": "[encoded data removed]"
          },
          "metadata": {}
        }
      ]
    },
    {
      "cell_type": "markdown",
      "source": [
        "## **Distrubición porcentual de los Ingresos.**"
      ],
      "metadata": {
        "id": "yhywsj-OEAlP"
      }
    },
    {
      "cell_type": "code",
      "source": [
        "# 🔹 Gráfico Circular: Porcentaje de ingresos por tienda\n",
        "plt.figure(figsize=(7,7))\n",
        "plt.pie(porcentaje_por_tienda, labels=ingresos_por_tienda.index, autopct=\"%1.1f%%\", colors=sns.color_palette(\"pastel\"))\n",
        "plt.title(\"Distribución porcentual de ingresos por tienda\")\n",
        "plt.show()"
      ],
      "metadata": {
        "colab": {
          "base_uri": "https://localhost:8080/",
          "height": 598
        },
        "id": "NyS4cRgjENC4",
        "outputId": "3aae0463-fd30-44d4-df32-73e82b4181f2"
      },
      "execution_count": 36,
      "outputs": [
        {
          "output_type": "display_data",
          "data": {
            "text/plain": [
              "<Figure size 700x700 with 1 Axes>"
            ],
            "image/png": "[encoded data removed]"
          },
          "metadata": {}
        }
      ]
    },
    {
      "cell_type": "markdown",
      "source": [
        "##**Ventas por Categoría de Producto**"
      ],
      "metadata": {
        "id": "D03JKmO9J9XE"
      }
    },
    {
      "cell_type": "code",
      "source": [
        "import matplotlib.pyplot as plt\n",
        "import seaborn as sns\n",
        "\n",
        "# Convertir el resultado en un DataFrame para graficar\n",
        "ventas_df = ventas_por_categoria_tienda.reset_index(name=\"Cantidad Vendida\")\n",
        "\n",
        "plt.figure(figsize=(12, 6))\n",
        "sns.barplot(x=\"Cantidad Vendida\", y=\"Categoría del Producto\", hue=\"Tienda\", data=ventas_df, palette=\"viridis\")\n",
        "plt.xlabel(\"Cantidad de Productos Vendidos\")\n",
        "plt.ylabel(\"Categoría del Producto\")\n",
        "plt.title(\"Ventas por Categoría en cada Tienda\")\n",
        "plt.legend(title=\"Tiendas\")\n",
        "plt.show()\n"
      ],
      "metadata": {
        "colab": {
          "base_uri": "https://localhost:8080/",
          "height": 565
        },
        "id": "xMvX-YgWTzMW",
        "outputId": "8886173a-5aaa-49a9-9c3e-cd01bf10b8f0"
      },
      "execution_count": 58,
      "outputs": [
        {
          "output_type": "display_data",
          "data": {
            "text/plain": [
              "<Figure size 1200x600 with 1 Axes>"
            ],
            "image/png": "[encoded data removed]"
          },
          "metadata": {}
        }
      ]
    },
    {
      "cell_type": "markdown",
      "source": [
        "##**Costos Promedio de Envíos**"
      ],
      "metadata": {
        "id": "QBca9x0saKkn"
      }
    },
    {
      "cell_type": "code",
      "source": [
        "import matplotlib.pyplot as plt\n",
        "import seaborn as sns\n",
        "\n",
        "plt.figure(figsize=(8, 5))\n",
        "sns.barplot(x=costo_envio_promedio.index, y=costo_envio_promedio.values, palette=\"coolwarm\")\n",
        "plt.xlabel(\"Tiendas\")\n",
        "plt.ylabel(\"Costo de Envío Promedio\")\n",
        "plt.title(\"Comparación de Costos de Envío por Tienda\")\n",
        "plt.show()"
      ],
      "metadata": {
        "colab": {
          "base_uri": "https://localhost:8080/",
          "height": 575
        },
        "id": "oEobgTkxZr0Q",
        "outputId": "940ad0c2-36fb-471d-81d7-69022cd57bc6"
      },
      "execution_count": 70,
      "outputs": [
        {
          "output_type": "stream",
          "name": "stderr",
          "text": [
            "<ipython-input-70-4bea2f4cc6be>:5: FutureWarning: \n",
            "\n",
            "Passing `palette` without assigning `hue` is deprecated and will be removed in v0.14.0. Assign the `x` variable to `hue` and set `legend=False` for the same effect.\n",
            "\n",
            "  sns.barplot(x=costo_envio_promedio.index, y=costo_envio_promedio.values, palette=\"coolwarm\")\n"
          ]
        },
        {
          "output_type": "display_data",
          "data": {
            "text/plain": [
              "<Figure size 800x500 with 1 Axes>"
            ],
            "image/png": "[encoded data removed]"
          },
          "metadata": {}
        }
      ]
    },
    {
      "cell_type": "code",
      "source": [],
      "metadata": {
        "id": "AB1ICGubZuPU"
      },
      "execution_count": null,
      "outputs": []
    },
    {
      "cell_type": "markdown",
      "source": [
        "#**Informe Final: Análisis Comparativo de Rendimiento en Tiendas**"
      ],
      "metadata": {
        "id": "6RR4mQjMbd-j"
      }
    },
    {
      "cell_type": "markdown",
      "source": [
        "##**Introducción**"
      ],
      "metadata": {
        "id": "d9o8NyFcbiJu"
      }
    },
    {
      "cell_type": "markdown",
      "source": [
        "El presente informe tiene como objetivo evaluar el rendimiento de cuatro tiendas con base en varios factores clave, incluidos los ingresos totales, las categorías de productos más y menos vendidas, la satisfacción de los clientes, los costos de envío y el desempeño de productos específicos. Con esta información, se recomienda cuál de las tiendas debería venderse, considerando su desempeño en relación con las demás."
      ],
      "metadata": {
        "id": "T3_S91DCbpdy"
      }
    },
    {
      "cell_type": "markdown",
      "source": [
        "##**Desarrollo**\n",
        "A continuación, se presentan los hallazgos clave del análisis:\n",
        "##**1. Ingresos Totales por Tienda:**\n",
        "Se analizó el ingreso total de cada tienda mediante la suma de los valores de los productos vendidos. Las tiendas con mayores ingresos han demostrado una fuerte demanda de sus productos, mientras que aquellas con ingresos menores pueden tener dificultades para mantenerse rentables.\n",
        "\n",
        "**Hallazgo clave:** La tienda con menor ingreso total es candidata para ser vendida, ya que enfrenta dificultades en su desempeño comercial en comparación con las demás.\n",
        "\n",
        "##**2. Categorías de Productos Más y Menos Vendidas:**\n",
        "Se analizaron los productos con mayor y menor cantidad de ventas. Las tiendas que tienen productos con alta demanda tienen una ventaja en la competitividad del mercado.\n",
        "\n",
        "**Hallazgo clave:** Si la mayoría de los productos vendidos en una tienda tienen baja demanda en comparación con las demás tiendas, la rentabilidad es menor y puede justificar su venta.\n",
        "\n",
        "##**3. Opiniones de los Clientes:**\n",
        "El análisis de las calificaciones promedio permite evaluar la satisfacción del cliente con los productos y servicios de cada tienda. Una tienda con baja calificación puede estar enfrentando problemas en aspectos como calidad del producto, servicio al cliente o tiempos de entrega.\n",
        "\n",
        "**Hallazgo clave:** Una tienda con valoraciones consistentemente más bajas en comparación con las demás representa una señal de alerta y podría ser considerada para venta o mejora operativa.\n",
        "\n",
        "##**4. Productos Más Vendidos y Menos Vendidos:**\n",
        "A diferencia de lo esperado inicialmente, no se identificaron productos con ventas extremadamente bajas, pues el menor número de ventas aún alcanza 32 unidades. Sin embargo, se observaron diferencias en la participación de productos en el volumen total de ventas. Las tiendas con productos de alto rendimiento pueden tener una ventaja competitiva, mientras que aquellas con una distribución de ventas menos equilibrada pueden enfrentar desafíos en su rentabilidad.\n",
        "\n",
        "**Hallazgo clave:** Una tienda con menor concentración de productos exitosos y con una estructura de ventas menos eficiente podría tener mayores dificultades a largo plazo.\n",
        "\n",
        "##**5. Coste de Envío Promedio por Tienda:**\n",
        "El análisis del costo de envío promedio permite evaluar la eficiencia logística de cada tienda. Las tiendas con costos significativamente más altos pueden tener márgenes de ganancia afectados por gastos operativos elevados.\n",
        "\n",
        "**Hallazgo clave:** Si una tienda tiene costos de envío superiores en comparación con las demás, esto podría representar una desventaja en la optimización de costos y afectar la rentabilidad."
      ],
      "metadata": {
        "id": "IrgfUqb9h7gD"
      }
    },
    {
      "cell_type": "markdown",
      "source": [
        "##**Conclusión y Recomendación**\n",
        "Con base en el análisis realizado, se recomienda la venta de la tienda que presenta **menor ingreso total, baja satisfacción del cliente, una distribución de ventas menos eficiente y costos de envío elevados**. La combinación de estos factores hace que su sostenibilidad en el tiempo sea incierta en comparación con otras tiendas que tienen un desempeño más sólido.\n",
        "\n",
        "Por otro lado, las tiendas **con diversificación de productos exitosos, mejor valoración por parte de los clientes y costos de operación más competitivos** deben mantenerse, ya que representan oportunidades de crecimiento y estabilidad financiera.\n",
        "\n",
        "**Acciones sugeridas**\n",
        "\n",
        "1) Optimizar estrategias de ventas en las tiendas que continúan operando.\n",
        "\n",
        "2) Reducir costos de envío para mejorar márgenes de ganancia.\n",
        "\n",
        "3) Fortalecer la calidad del servicio al cliente para aumentar la satisfacción.\n",
        "\n",
        "4) Potenciar productos exitosos para consolidar la estabilidad del negocio."
      ],
      "metadata": {
        "id": "44601fYTb6jC"
      }
    }
  ]
}